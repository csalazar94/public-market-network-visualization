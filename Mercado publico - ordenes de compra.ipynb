{
 "cells": [
  {
   "cell_type": "code",
   "execution_count": 1,
   "id": "fb5fe184-cf66-423b-99f4-a9fe5a4e9d77",
   "metadata": {},
   "outputs": [],
   "source": [
    "import wget"
   ]
  },
  {
   "cell_type": "code",
   "execution_count": 2,
   "id": "ea0a6c7e-20db-4864-85d6-3fe3fb99e0cd",
   "metadata": {},
   "outputs": [
    {
     "name": "stdout",
     "output_type": "stream",
     "text": [
      "100% [....................................................] 96600317 / 96600317"
     ]
    }
   ],
   "source": [
    "for year in range(2020, 2023):\n",
    "    for month in range(1, 13):\n",
    "        file_name = f\"{year}-{month}.zip\"\n",
    "        url = f\"https://transparenciachc.blob.core.windows.net/oc-da/{file_name}\"\n",
    "        wget.download(url, f\"data/{file_name}\")"
   ]
  }
 ],
 "metadata": {
  "kernelspec": {
   "display_name": "Python 3 (ipykernel)",
   "language": "python",
   "name": "python3"
  },
  "language_info": {
   "codemirror_mode": {
    "name": "ipython",
    "version": 3
   },
   "file_extension": ".py",
   "mimetype": "text/x-python",
   "name": "python",
   "nbconvert_exporter": "python",
   "pygments_lexer": "ipython3",
   "version": "3.9.12"
  }
 },
 "nbformat": 4,
 "nbformat_minor": 5
}
